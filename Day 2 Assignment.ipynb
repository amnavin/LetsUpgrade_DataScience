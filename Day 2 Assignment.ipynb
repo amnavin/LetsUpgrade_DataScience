{
 "cells": [
  {
   "cell_type": "code",
   "execution_count": 3,
   "metadata": {},
   "outputs": [
    {
     "name": "stdout",
     "output_type": "stream",
     "text": [
      "Enter number 1 : 12\n",
      "Enter number 2 : 33\n",
      "Enter number 3 : 82\n",
      "Enter number 4 : 63\n",
      "Enter number 5 : 35\n",
      "Enter number 6 : 88\n",
      "Enter number 7 : 1\n",
      "Enter number 8 : 38\n",
      "Enter number 9 : 71\n",
      "Enter number 10 : 55\n",
      " \n",
      "Final List:\n",
      "[12, 82, 88, 38]\n"
     ]
    }
   ],
   "source": [
    "#Questions 1:\n",
    "#Create an empty list. Accept 10 numbers from the user and append to it the list if it is an even number.\n",
    "\n",
    "my_list = []\n",
    "for i in range(10):\n",
    "    num = int(input(\"Enter number \" + str(i+1) + \" : \"))\n",
    "    if(num%2 == 0):\n",
    "        my_list.append(num)\n",
    "print(\" \")       \n",
    "print(\"Final List:\")\n",
    "print(my_list)"
   ]
  },
  {
   "cell_type": "code",
   "execution_count": 5,
   "metadata": {},
   "outputs": [
    {
     "name": "stdout",
     "output_type": "stream",
     "text": [
      "['N', 'a', 'v', 'i', 'n', 'i', 'M', 'i', 's', 't', 'r', 'y']\n",
      "['N', 'a', 'v', 'i', 'n', '_', 'M', 'i', 's', 't', 'r', 'y']\n",
      "[0, 3, 6, 9, 12, 15, 18]\n"
     ]
    }
   ],
   "source": [
    "#Questions 2:\n",
    "#Create a notebook on LIST COMPREHENSION. This exercise is to put you in a Self learning mode\n",
    "\n",
    "word = [letter for letter in 'NaviniMistry' ]\n",
    "print(word)\n",
    "\n",
    "name = list(map(lambda x: x, 'Navin_Mistry'))\n",
    "print(name)\n",
    "\n",
    "numbers = [x for x in range(20) if x % 3 == 0]\n",
    "print(numbers)"
   ]
  },
  {
   "cell_type": "code",
   "execution_count": 8,
   "metadata": {},
   "outputs": [
    {
     "name": "stdout",
     "output_type": "stream",
     "text": [
      "12\n",
      "{1: 1, 2: 4, 3: 9, 4: 16, 5: 25, 6: 36, 7: 49, 8: 64, 9: 81, 10: 100, 11: 121, 12: 144}\n"
     ]
    }
   ],
   "source": [
    "#Questions 3:\n",
    "#You have seen in the videos how powerful dictionary data structure is.\n",
    "#In this assignment, given a number n, you have to \n",
    "#write a program that generates a dictionary d which contains (i, i*i), where i is from 1 to n (both included). \n",
    "#Then you have to just print this dictionary d. Example: Input: 4 will give output as {1: 1, 2: 4, 3: 9, 4: 16} \n",
    "#Input Format: Take the number n in a single line. Output Format: Print the dictionary d in a single line.\n",
    "\n",
    "number = int(input())\n",
    "dictionary = {a:a*a for a in range(1,number+1)}\n",
    "print(dictionary)"
   ]
  },
  {
   "cell_type": "code",
   "execution_count": 12,
   "metadata": {},
   "outputs": [
    {
     "name": "stdout",
     "output_type": "stream",
     "text": [
      "4\n",
      "UP 5\n",
      "DOWN 3\n",
      "LEFT 3\n",
      "RIGHT 2\n",
      "2\n"
     ]
    }
   ],
   "source": [
    "#Question 4\n",
    "#There is a robot which wants to go the charging point to charge itself.\n",
    "#The robot moves in a 2-D plane from the original point (0,0).\n",
    "#The robot can move toward UP, DOWN, LEFT and RIGHT with given steps. \n",
    "#The trace of robot movement is shown as the following: UP 5 DOWN 3 LEFT 3 RIGHT 2 \n",
    "#Then, the output of the program should be: \n",
    "#2 The numbers after the direction are steps.\n",
    "#Write a program to compute the distance between the current position after a sequence of movement and original point.\n",
    "#If the distance is a float, then just print the nearest integer (use round() function for that and then convert it into an integer).\n",
    "#Input Format: The first line of the input contains a number n which implies the number of directions to be given. \n",
    "#The next n lines contain the direction and the step separated by a space. Output Format: Print the distance from the original position to the current position.\n",
    "\n",
    "import math\n",
    "\n",
    "directions = int(input())\n",
    "x, y = 0, 0 #initially at (0,0)\n",
    "x1, y1 = 0, 0\n",
    "for i in range(directions):\n",
    "    way, steps = map(str, input().strip().split(' '))\n",
    "    if(way == 'UP'):\n",
    "        y1 += int(steps)\n",
    "    elif (way == 'DOWN'):\n",
    "        y1 -= int(steps)\n",
    "    elif(way == 'LEFT'):\n",
    "        x1 -= int(steps)\n",
    "    elif(way == 'RIGHT'):\n",
    "        x1 += int(steps)\n",
    "\n",
    "#distance formula = sqrt((x1-x0)**2 + (y1-y)**2)\n",
    "print(round(math.sqrt((x1**2) + (y1**2))))"
   ]
  },
  {
   "cell_type": "markdown",
   "metadata": {},
   "source": []
  }
 ],
 "metadata": {
  "kernelspec": {
   "display_name": "Python 3",
   "language": "python",
   "name": "python3"
  },
  "language_info": {
   "codemirror_mode": {
    "name": "ipython",
    "version": 3
   },
   "file_extension": ".py",
   "mimetype": "text/x-python",
   "name": "python",
   "nbconvert_exporter": "python",
   "pygments_lexer": "ipython3",
   "version": "3.7.3"
  }
 },
 "nbformat": 4,
 "nbformat_minor": 2
}
